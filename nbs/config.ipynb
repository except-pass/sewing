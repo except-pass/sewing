{
 "cells": [
  {
   "cell_type": "code",
   "execution_count": null,
   "id": "27af0bae-0844-4f6d-8425-87578ac98a66",
   "metadata": {},
   "outputs": [
    {
     "name": "stdout",
     "output_type": "stream",
     "text": [
      "Converted config.ipynb.\n"
     ]
    }
   ],
   "source": [
    "# default_exp config\n",
    "# hide\n",
    "_FNAME='config'\n",
    "\n",
    "import unittest\n",
    "from unittest import mock\n",
    "from nbdev.export import notebook2script\n",
    "import os\n",
    "TESTCASE = unittest.TestCase()\n",
    "_nbpath = os.path.join(_dh[0], _FNAME+'.ipynb')\n",
    "notebook2script(_nbpath)"
   ]
  },
  {
   "cell_type": "code",
   "execution_count": null,
   "id": "b113397b-3136-4f9d-90a9-7a72ffc75a55",
   "metadata": {},
   "outputs": [],
   "source": [
    "#export\n",
    "import os\n",
    "import yaml\n",
    "\n",
    "\n",
    "config_file = os.environ.get(\"SEWING_CONFIG_FILE\", 'config.yaml')\n",
    "\n",
    "try:\n",
    "    with open(config_file) as f:\n",
    "        configs = yaml.safe_load(f)\n",
    "except FileNotFoundError:\n",
    "    configs = {\n",
    "        'frequency': {'hours': 24},  #how often emails are sent\n",
    "        'send_on_start': False,  #send an email right when the bot starts\n",
    "        'lookback': {'days': 1},  #how far to look back for messages\n",
    "        \n",
    "    }\n"
   ]
  }
 ],
 "metadata": {
  "kernelspec": {
   "display_name": "Python 3 (ipykernel)",
   "language": "python",
   "name": "python3"
  }
 },
 "nbformat": 4,
 "nbformat_minor": 5
}
