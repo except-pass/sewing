{
 "cells": [
  {
   "cell_type": "code",
   "execution_count": null,
   "id": "931d6781-8411-45db-873a-44ad4e5cad93",
   "metadata": {},
   "outputs": [],
   "source": [
    "# default_exp db\n",
    "# hide\n",
    "_FNAME='db'\n",
    "\n",
    "import unittest\n",
    "from unittest import mock\n",
    "from nbdev.export import notebook2script\n",
    "import os\n",
    "\n",
    "TESTCASE = unittest.TestCase()\n",
    "_nbpath = os.path.join(_dh[0], _FNAME+'.ipynb')"
   ]
  },
  {
   "cell_type": "code",
   "execution_count": null,
   "id": "5c2ab991-599d-4794-a119-bd353f30c8f6",
   "metadata": {},
   "outputs": [],
   "source": [
    "#export\n",
    "import time\n",
    "from neo4j.exceptions import ClientError\n",
    "from mranderson.db import Query, fetch\n",
    "import mranderson.node as node\n",
    "import mranderson.constraints as constraints"
   ]
  },
  {
   "cell_type": "code",
   "execution_count": null,
   "id": "ebc60fd7-a8cf-410c-b8ac-314f39b1d063",
   "metadata": {},
   "outputs": [],
   "source": [
    "from mranderson.sandbox import start_neo4j, start_fresh, create_totem"
   ]
  },
  {
   "cell_type": "code",
   "execution_count": null,
   "id": "0524d26d-3bbe-4187-8f79-8c46b0d1a1e0",
   "metadata": {},
   "outputs": [],
   "source": [
    "container_name = 'sewing_test_db'\n",
    "container, driver = start_neo4j(container_name=container_name)"
   ]
  },
  {
   "cell_type": "code",
   "execution_count": null,
   "id": "fb8eaaf3-b428-495e-9c87-747188168322",
   "metadata": {},
   "outputs": [],
   "source": [
    "#export\n",
    "def ensure_unique_nodes():\n",
    "    results = {}\n",
    "    for n in ('Guild', 'User', 'Channel'):\n",
    "        constraints.uniqueness(n, 'id')\n",
    "    return results\n",
    "    "
   ]
  },
  {
   "cell_type": "code",
   "execution_count": null,
   "id": "ba42f585-9101-42e9-84a6-90c2904b69be",
   "metadata": {},
   "outputs": [
    {
     "data": {
      "text/plain": [
       "{}"
      ]
     },
     "execution_count": null,
     "metadata": {},
     "output_type": "execute_result"
    }
   ],
   "source": [
    "TESTCASE.assertTrue(start_fresh())\n",
    "create_totem()\n",
    "ensure_unique_nodes()\n",
    "ensure_unique_nodes()"
   ]
  },
  {
   "cell_type": "code",
   "execution_count": null,
   "id": "b45a2a20-c47d-42cf-8054-46abf88ebe75",
   "metadata": {},
   "outputs": [],
   "source": [
    "#export\n",
    "\n",
    "def guild_node(guild, variable_name='guild'):\n",
    "    gid = guild.id\n",
    "    return node.txt('Guild', variable=variable_name, id=gid) \n",
    "\n",
    "def user_node(user, variable_name='user'):\n",
    "    name = user.name\n",
    "    uid = user.id\n",
    "    discrim = user.discriminator\n",
    "    return node.txt('User', variable=variable_name, id=uid, name=name, discriminator=discrim)\n",
    "\n",
    "def channel_node(channel, variable_name='channel'):\n",
    "    return node.txt('Channel', variable=variable_name, id=channel.id, name=channel.name)"
   ]
  },
  {
   "cell_type": "code",
   "execution_count": null,
   "id": "3a8d3c50-31ea-4045-97fb-fe640dfa0ae2",
   "metadata": {},
   "outputs": [],
   "source": [
    "from dataclasses import dataclass\n",
    "\n",
    "@dataclass\n",
    "class FakeGuild:\n",
    "    id='abc123'\n",
    "    name='fake'\n",
    "\n",
    "@dataclass\n",
    "class FakeUser:\n",
    "    id='user789'\n",
    "    name='user#789'\n",
    "    discriminator='789'\n",
    "    \n",
    "@dataclass\n",
    "class FakeChannel:\n",
    "    id='89123'\n",
    "    name='fakechannel'\n",
    "    \n",
    "TESTCASE.assertEqual(guild_node(FakeGuild()), '(guild:Guild {id: \"abc123\"})')\n",
    "TESTCASE.assertEqual(user_node(FakeUser()), '(user:User {id: \"user789\",name: \"user#789\",discriminator: \"789\"})')\n"
   ]
  },
  {
   "cell_type": "code",
   "execution_count": null,
   "id": "fe5670ab-366b-42b8-80cb-7d0c68cc795f",
   "metadata": {},
   "outputs": [],
   "source": [
    "#export\n",
    "\n",
    "def ensure_guild(guild):\n",
    "    gnode = guild_node(guild)\n",
    "    node.ensure('Guild', \n",
    "                search_properties={'id': guild.id},\n",
    "                node_properties={'name': guild.name})\n",
    "    \n",
    "def guilds() -> list:\n",
    "    q = Query()\n",
    "    q.add(\"MATCH (guild:Guild) RETURN guild\")\n",
    "    return q.data()"
   ]
  },
  {
   "cell_type": "code",
   "execution_count": null,
   "id": "d2096a48-e425-4e0b-9c23-12da29a9923a",
   "metadata": {},
   "outputs": [
    {
     "name": "stdout",
     "output_type": "stream",
     "text": [
      "SUCCESS\n"
     ]
    }
   ],
   "source": [
    "def test_ensure_guild():\n",
    "    TESTCASE.assertTrue(start_fresh())\n",
    "    create_totem()\n",
    "    fg = FakeGuild()\n",
    "    ensure_guild(fg)\n",
    "    ensure_guild(fg)    \n",
    "    ensure_guild(fg)\n",
    "    \n",
    "    q = Query()\n",
    "    q.add(\"MATCH\")\n",
    "    q.add(guild_node(fg))\n",
    "    q.add('RETURN count(guild) as num')    \n",
    "    resp = q.single()\n",
    "    TESTCASE.assertEqual(resp, 1)\n",
    "    print(\"SUCCESS\")\n",
    "test_ensure_guild()"
   ]
  },
  {
   "cell_type": "code",
   "execution_count": null,
   "id": "dc0958f5-fac1-4120-9058-081cb874de86",
   "metadata": {},
   "outputs": [],
   "source": [
    "#export\n",
    "\n",
    "def register_user(user, guild):\n",
    "    ensure_guild(guild)\n",
    "    \n",
    "    unode = user_node(user)\n",
    "    if guild:\n",
    "        gnode = guild_node(guild)\n",
    "    q = Query()\n",
    "    q.add(\"MERGE\")\n",
    "    q.add(unode)\n",
    "    q.add(\"WITH user\")\n",
    "    q.add(\"MATCH\")\n",
    "    q.add(gnode)\n",
    "    q.add(\"WITH user, guild\")\n",
    "    q.add(\"MERGE (user)-[:BELONGS_TO]->(guild)\")\n",
    "    return q.create()\n",
    "\n",
    "def unregister_user(user, guild):\n",
    "    q = Query()\n",
    "    guild_n = guild_node(guild)\n",
    "    q.add('MATCH')\n",
    "    q.add(user_node(user))\n",
    "    q.add('-[belongs:BELONGS_TO]->')\n",
    "    q.add(guild_n)\n",
    "    q.add(\"DELETE belongs\")\n",
    "    return q.create()\n",
    "    "
   ]
  },
  {
   "cell_type": "code",
   "execution_count": null,
   "id": "0f1c2069-f2e7-444c-afdc-0211ab255da2",
   "metadata": {},
   "outputs": [],
   "source": [
    "#export\n",
    "def set_email(user, email):\n",
    "    unode = user_node(user)    \n",
    "    q = Query()\n",
    "    q.add(\"MERGE\")\n",
    "    q.add(unode)\n",
    "    q.add(\"WITH user\")\n",
    "    q.add(\"SET user.email='{}'\".format(email))\n",
    "    return q.create()\n",
    "\n",
    "def get_email(user):\n",
    "    unode = user_node(user)    \n",
    "    q = Query()\n",
    "    q.add(\"MATCH\")\n",
    "    q.add(unode)\n",
    "    q.add(\"RETURN user.email as email\")\n",
    "    return q.only() \n",
    "\n",
    "def get_guild_emails(guild):\n",
    "    gnode = guild_node(guild)\n",
    "    q = Query()\n",
    "    q.add(\"MATCH\")\n",
    "    q.add(gnode)\n",
    "    q.add('<-[:BELONGS_TO]-(user:User)')\n",
    "    q.add(\"RETURN user.email as email\")\n",
    "    data = q.data() \n",
    "    return [entry['email'] for entry in data]\n",
    "    "
   ]
  },
  {
   "cell_type": "code",
   "execution_count": null,
   "id": "87752c6a-0a8b-4fd6-95d5-a202d0a205b7",
   "metadata": {},
   "outputs": [],
   "source": [
    "#export\n",
    "def seeall():\n",
    "    q = Query()\n",
    "    q.add(\"MATCH (n) return n\")\n",
    "    return q.data()\n",
    "\n",
    "#seeall()\n"
   ]
  },
  {
   "cell_type": "code",
   "execution_count": null,
   "id": "c7f3e261-abf3-4b64-84f8-ac40880413fc",
   "metadata": {},
   "outputs": [
    {
     "name": "stdout",
     "output_type": "stream",
     "text": [
      "[{'n': {'eid': 'totem', 'is_test_data': True}}, {'n': {'name': 'fake', 'id': 'abc123'}}]\n",
      "[{'n': {'name': 'user#789', 'id': 'user789', 'discriminator': '789'}}, {'n': {'eid': 'totem', 'is_test_data': True}}, {'n': {'name': 'fake', 'id': 'abc123'}}]\n",
      "SUCCESS\n"
     ]
    }
   ],
   "source": [
    "def test_register():\n",
    "    TESTCASE.assertTrue(start_fresh())\n",
    "    create_totem()\n",
    "    \n",
    "    user = FakeUser()\n",
    "    \n",
    "    ensure_guild(FakeGuild())\n",
    "    print(seeall())\n",
    "    \n",
    "    resp = register_user(user, FakeGuild())\n",
    "    print(seeall())\n",
    "    TESTCASE.assertEqual(resp.relationships_created, 1)\n",
    "    TESTCASE.assertEqual(resp.nodes_created, 1)\n",
    "\n",
    "    TESTCASE.assertIsNone(get_email(user)['email'])\n",
    "    #run it again\n",
    "    resp = register_user(user, FakeGuild())\n",
    "    TESTCASE.assertEqual(resp.relationships_created, 0)\n",
    "    TESTCASE.assertEqual(resp.nodes_created, 0)\n",
    "    TESTCASE.assertEqual(resp.properties_set, 0)\n",
    "    \n",
    "    set_email(user, 'adifferent@email.com')\n",
    "\n",
    "    TESTCASE.assertEqual(fetch('User', id='user789')['email'], 'adifferent@email.com')\n",
    "    resp = unregister_user(FakeUser(), FakeGuild())\n",
    "    TESTCASE.assertEqual(resp.relationships_deleted, 1)\n",
    "    \n",
    "    TESTCASE.assertEqual(get_email(user)['email'], 'adifferent@email.com')\n",
    "    print(\"SUCCESS\")\n",
    "test_register()"
   ]
  },
  {
   "cell_type": "code",
   "execution_count": null,
   "id": "f96a437f-54c4-471b-9d9f-b16b1afdc1ee",
   "metadata": {},
   "outputs": [
    {
     "name": "stdout",
     "output_type": "stream",
     "text": [
      "SUCCESS\n"
     ]
    }
   ],
   "source": [
    "def test_unregister():\n",
    "    TESTCASE.assertTrue(start_fresh())\n",
    "    create_totem()\n",
    "    resp = unregister_user(FakeUser(), FakeGuild())    \n",
    "    TESTCASE.assertEqual(resp.relationships_deleted, 0)\n",
    "    print(\"SUCCESS\")\n",
    "test_unregister()\n"
   ]
  },
  {
   "cell_type": "code",
   "execution_count": null,
   "id": "7009bb05-fd6a-40b5-9a3c-40f2e11ce169",
   "metadata": {},
   "outputs": [],
   "source": [
    "#export\n",
    "def add_channel(channel, guild):\n",
    "    ensure_guild(guild)\n",
    "    \n",
    "    q = Query()\n",
    "    q.add(\"MERGE\")\n",
    "    q.add(channel_node(channel))\n",
    "    q.add(\"WITH channel\")\n",
    "    q.add(\"MATCH\")\n",
    "    q.add(guild_node(guild))\n",
    "    q.add(\"WITH channel, guild\")\n",
    "    q.add(\"MERGE (channel)-[:IN]->(guild)\")\n",
    "    return q.create()    \n",
    "\n",
    "def remove_channel(channel, guild):\n",
    "    q = Query()\n",
    "    q.add(\"MATCH\")\n",
    "    q.add(channel_node(channel))\n",
    "    q.add('-[:IN]->')\n",
    "    q.add(guild_node(guild))\n",
    "    q.add(\"DETACH DELETE channel\")\n",
    "    return q.create()    \n",
    "\n",
    "def summarized_channels(guild, names_only=True):\n",
    "    q = Query()\n",
    "    q.add(\"MATCH\")\n",
    "    q.add(guild_node(guild))\n",
    "    q.add('<-[:IN]-')\n",
    "    q.add('(channel:Channel)')\n",
    "    q.add(\"RETURN channel\")\n",
    "    resp = q.data()\n",
    "    if names_only:\n",
    "        return [chan['channel']['name'] for chan in resp]\n",
    "    else:\n",
    "        return resp"
   ]
  },
  {
   "cell_type": "code",
   "execution_count": null,
   "id": "8527cfce-9fb3-429f-8681-6666d4cda9c9",
   "metadata": {},
   "outputs": [
    {
     "name": "stdout",
     "output_type": "stream",
     "text": [
      "[{'channel': {'name': 'fakechannel', 'id': '89123'}}]\n",
      "SUCCESS\n"
     ]
    }
   ],
   "source": [
    "def test_add_channel():\n",
    "    TESTCASE.assertTrue(start_fresh())\n",
    "    create_totem()\n",
    "    \n",
    "    resp = add_channel(FakeChannel(), FakeGuild())\n",
    "    TESTCASE.assertEqual(resp.relationships_created, 1)\n",
    "    TESTCASE.assertEqual(resp.nodes_created, 1)\n",
    "\n",
    "    #run it again\n",
    "    resp = add_channel(FakeChannel(), FakeGuild())\n",
    "    TESTCASE.assertEqual(resp.relationships_created, 0)\n",
    "    TESTCASE.assertEqual(resp.nodes_created, 0)\n",
    "    TESTCASE.assertEqual(resp.properties_set, 0)\n",
    "\n",
    "    TESTCASE.assertEqual(fetch('Channel', id='89123')['name'], 'fakechannel')\n",
    "    \n",
    "    print(summarized_channels(FakeGuild(), names_only=False))\n",
    "\n",
    "    \n",
    "    resp = remove_channel(FakeChannel(), FakeGuild())\n",
    "    TESTCASE.assertEqual(resp.nodes_deleted, 1)\n",
    "    TESTCASE.assertEqual(resp.relationships_deleted, 1)\n",
    "    print(\"SUCCESS\")\n",
    "test_add_channel()"
   ]
  },
  {
   "cell_type": "code",
   "execution_count": null,
   "id": "a95217e3-514a-423b-a698-f49d54c64ee2",
   "metadata": {},
   "outputs": [],
   "source": [
    "#export\n",
    "def add_suggestion(user, *args, ts=None):\n",
    "    ts = ts or time.time()\n",
    "    suggestion = ' '.join(args)\n",
    "    q = Query()\n",
    "    q = Query()\n",
    "    q.add(\"MERGE\")\n",
    "    q.add(user_node(user))\n",
    "    q.add(\"MERGE\")\n",
    "    q.add(node.txt('Suggestion', 'suggestion', body=suggestion, ts=ts))\n",
    "    q.add(\"WITH user, suggestion\")\n",
    "    q.add(\"MERGE (user)-[:MADE]->(suggestion)\")\n",
    "    return q.create()"
   ]
  },
  {
   "cell_type": "code",
   "execution_count": null,
   "id": "14d57760-fe77-4b55-8514-d48203cfe5c7",
   "metadata": {},
   "outputs": [],
   "source": [
    "def test_add_suggestion():\n",
    "    TESTCASE.assertTrue(start_fresh())\n",
    "    create_totem()\n",
    "    resp = add_suggestion(FakeUser(), 'make', 'it', 'good')\n",
    "    TESTCASE.assertTrue(resp.nodes_created, 2)\n",
    "    resp = add_suggestion(FakeUser(), 'make it better')\n",
    "    TESTCASE.assertTrue(resp.nodes_created, 1)\n",
    "\n",
    "    q = Query()\n",
    "    q.add(\"MATCH (s:Suggestion) return count(s) as num\")\n",
    "    TESTCASE.assertEqual(q.only()['num'], 2)\n",
    "test_add_suggestion()"
   ]
  },
  {
   "cell_type": "code",
   "execution_count": null,
   "id": "33e0ecd8-c2eb-4b1d-8e24-eb59251e5d4c",
   "metadata": {},
   "outputs": [],
   "source": [
    "#export\n",
    "def add_report(guild, ts):\n",
    "    gnode = guild_node(guild)\n",
    "    q = Query()\n",
    "    q.add(\"MATCH\")\n",
    "    q.add(gnode)\n",
    "    q.add(\"SET guild.last_report={}\".format(ts))\n",
    "    return q.create()\n",
    "\n",
    "def last_report(guild):\n",
    "    gnode = guild_node(guild)\n",
    "    q = Query()\n",
    "    q.add(\"MATCH\")\n",
    "    q.add(gnode)\n",
    "    q.add(\"RETURN guild.last_report as last_report\")\n",
    "    return q.single()\n",
    "    "
   ]
  },
  {
   "cell_type": "code",
   "execution_count": null,
   "id": "db8e0535-c43e-425b-8d1e-296e6cbb55fa",
   "metadata": {},
   "outputs": [
    {
     "name": "stdout",
     "output_type": "stream",
     "text": [
      "SUCCESS\n"
     ]
    }
   ],
   "source": [
    "def test_last_report():\n",
    "    TESTCASE.assertTrue(start_fresh())\n",
    "    create_totem()\n",
    "    fg = FakeGuild()\n",
    "    ensure_guild(fg)\n",
    "\n",
    "    TESTCASE.assertIsNone(last_report(fg))\n",
    "    add_report(fg, 100)\n",
    "    TESTCASE.assertEqual(last_report(fg), 100)\n",
    "    print(\"SUCCESS\")\n",
    "test_last_report()"
   ]
  },
  {
   "cell_type": "code",
   "execution_count": null,
   "id": "a13bbb30-bf2d-46c0-aad8-961451bfd115",
   "metadata": {},
   "outputs": [],
   "source": [
    "#export\n",
    "import logging\n",
    "logger = logging.getLogger()\n",
    "from sewing import is_main, start_log\n",
    "import pandas as pd\n",
    "\n",
    "def set_last_report(guild_name, ts):\n",
    "    \"\"\"\n",
    "    Sets the last report time to be ts\n",
    "    \n",
    "    :param guild_name: the name of the guild\n",
    "    :param ts: The time to set as a pandas to_datetime legible string.\n",
    "    \"\"\"\n",
    "    lr_time = pd.to_datetime(ts)\n",
    "    q = Query()\n",
    "    q.add(\"MATCH\")\n",
    "    q.add('(guild:Guild) where guild.name=\"{}\"'.format(guild_name))\n",
    "    q.add(\"SET guild.last_report={}\".format(lr_time.value/10**9))\n",
    "    q.add(\"RETURN guild.last_report as last_report\")\n",
    "    return q.only()\n",
    "\n",
    "if is_main(globals()):\n",
    "    logger = start_log()\n",
    "    logger.setLevel(logging.INFO)\n",
    "    from clize import run\n",
    "    run(set_last_report)\n",
    "    \n",
    "    "
   ]
  },
  {
   "cell_type": "code",
   "execution_count": null,
   "id": "4a9686db-07d4-4190-9b1f-3dd3c21b3c84",
   "metadata": {},
   "outputs": [
    {
     "name": "stdout",
     "output_type": "stream",
     "text": [
      "Converted db.ipynb.\n"
     ]
    }
   ],
   "source": [
    "notebook2script(_nbpath)"
   ]
  }
 ],
 "metadata": {
  "kernelspec": {
   "display_name": "Python 3 (ipykernel)",
   "language": "python",
   "name": "python3"
  }
 },
 "nbformat": 4,
 "nbformat_minor": 5
}
