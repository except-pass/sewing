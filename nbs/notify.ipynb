{
 "cells": [
  {
   "cell_type": "code",
   "execution_count": null,
   "id": "a9ea523a-4ada-4b45-b99e-f3291e871bd6",
   "metadata": {},
   "outputs": [
    {
     "name": "stdout",
     "output_type": "stream",
     "text": [
      "Converted notify.ipynb.\n"
     ]
    }
   ],
   "source": [
    "# default_exp notify\n",
    "# hide\n",
    "_FNAME='notify'\n",
    "\n",
    "import unittest\n",
    "from unittest import mock\n",
    "from nbdev.export import notebook2script\n",
    "import os\n",
    "TESTCASE = unittest.TestCase()\n",
    "_nbpath = os.path.join(_dh[0], _FNAME+'.ipynb')\n",
    "notebook2script(_nbpath)"
   ]
  },
  {
   "cell_type": "markdown",
   "id": "a31a302f-51cb-4f09-a026-1eccf1e953cf",
   "metadata": {},
   "source": [
    "# Notify"
   ]
  },
  {
   "cell_type": "code",
   "execution_count": null,
   "id": "c0ec683b-4495-4b69-a34f-9ce74046932a",
   "metadata": {},
   "outputs": [],
   "source": [
    "#export\n",
    "import datetime\n",
    "import logging\n",
    "logger = logging.getLogger()\n",
    "\n",
    "import discord\n",
    "\n",
    "from sewing.mailer import send\n",
    "from sewing.db import get_guild_emails\n",
    "import sewing.display"
   ]
  },
  {
   "cell_type": "code",
   "execution_count": null,
   "id": "a36b7c63-2263-40a1-9ba3-776948d73b31",
   "metadata": {},
   "outputs": [],
   "source": [
    "#export \n",
    "\n",
    "from sewing.config import configs\n",
    "\n",
    "def before(lookback=None):\n",
    "    now = datetime.datetime.now()\n",
    "    \n",
    "    lookback = lookback or configs['lookback']\n",
    "    return now - datetime.timedelta(**lookback)\n",
    "\n",
    "class Retriever:\n",
    "    def __init__(self, after=None):\n",
    "        self.after = after\n",
    "\n",
    "    async def get_all_messages_in_channel(self, chan):\n",
    "        '''\n",
    "        Returns all messages in all open threads in the channel\n",
    "        That were sent since `after`\n",
    "        '''\n",
    "        messages = {}\n",
    "        if chan is None:\n",
    "            return {}\n",
    "        \n",
    "        all_threads = [] \n",
    "        try:\n",
    "            all_threads = chan.threads\n",
    "        except AttributeError:\n",
    "            logger.info(\"Channel {} has no threads\".format(chan))\n",
    "        for thread in all_threads:\n",
    "            logger.info(\"THREAD {}\".format(thread))\n",
    "            messages[thread] = await self.get_all_messages_in_thread(thread)\n",
    "        return messages\n",
    "\n",
    "    async def get_all_messages_in_thread(self, thread):\n",
    "            messages = await self.retrieve(thread)\n",
    "            for msg in messages:\n",
    "                logger.info(\"{}\".format(msg))\n",
    "            return messages\n",
    "\n",
    "    async def retrieve(self, messagable, after=None, **kwargs):\n",
    "        '''\n",
    "        messagable = thread or channel\n",
    "        See other kwargs\n",
    "        https://discordpy.readthedocs.io/en/stable/api.html#discord.TextChannel.history\n",
    "        '''\n",
    "        after = after or self.after or before()\n",
    "        messages = await messagable.history(after=after, **kwargs).flatten()\n",
    "        return messages\n"
   ]
  },
  {
   "cell_type": "code",
   "execution_count": null,
   "id": "8a81580f-d436-40ef-a384-23d029021e8b",
   "metadata": {},
   "outputs": [],
   "source": [
    "#export\n",
    "\n",
    "class FakeResp:\n",
    "    status_code=\"didnt send\"\n",
    "\n",
    "def send_content(content:dict):\n",
    "    logger.info(\"Sending content: {}\".format(content))\n",
    "    resps = []\n",
    "    for guild, guild_content in content.items():\n",
    "        if not guild_content:\n",
    "            logger.info(\"{} has no content\".format(guild))\n",
    "            continue\n",
    "        else:\n",
    "            logger.info(\"the content is {}\".format(guild_content))\n",
    "        \n",
    "        to_emails = get_guild_emails(guild)\n",
    "        logger.info(\"sending to {}\".format(to_emails))\n",
    "        if not to_emails or to_emails[0] is None:\n",
    "            continue\n",
    "        \n",
    "        send_this = {guild: guild_content}\n",
    "        \n",
    "        html_content = sewing.display.html_content(send_this)\n",
    "        \n",
    "        logger.info('{}'.format(html_content))\n",
    "        \n",
    "        subject = '[{}] Daily Thread Summary'.format(guild.name)\n",
    "        \n",
    "        #resp = FakeResp()\n",
    "        resp = send(to_emails, subject, html_content)\n",
    "        resps.append(resp)\n",
    "        \n",
    "    logger.info(\"{}\".format(resps))\n",
    "    return resps\n",
    "        "
   ]
  }
 ],
 "metadata": {
  "kernelspec": {
   "display_name": "Python 3 (ipykernel)",
   "language": "python",
   "name": "python3"
  }
 },
 "nbformat": 4,
 "nbformat_minor": 5
}
