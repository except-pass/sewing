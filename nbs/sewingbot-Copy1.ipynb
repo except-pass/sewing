{
 "cells": [
  {
   "cell_type": "code",
   "execution_count": null,
   "id": "2542368a-98ed-4003-a091-7629a81c7698",
   "metadata": {},
   "outputs": [],
   "source": [
    "# default_exp sewingbot\n",
    "# hide\n",
    "_FNAME='sewingbot'\n",
    "\n",
    "import unittest\n",
    "from unittest import mock\n",
    "from nbdev.export import notebook2script\n",
    "import os\n",
    "TESTCASE = unittest.TestCase()\n",
    "_nbpath = os.path.join(_dh[0], _FNAME+'.ipynb')"
   ]
  },
  {
   "cell_type": "code",
   "execution_count": null,
   "id": "b6d4f499-2101-4e98-8139-ecc975a82259",
   "metadata": {},
   "outputs": [],
   "source": [
    "#export\n",
    "import sewing\n",
    "import discord\n",
    "import datetime\n",
    "from discord.ext import commands"
   ]
  },
  {
   "cell_type": "code",
   "execution_count": null,
   "id": "2355aa2c-9e00-4b3f-a5fb-6d4ff2ec4681",
   "metadata": {},
   "outputs": [],
   "source": [
    "#export\n",
    "\n",
    "description = '''Summarize threads and send as an email'''\n",
    "\n",
    "bot = commands.Bot(command_prefix='>>', description=description)\n",
    "\n",
    "now = datetime.datetime.now()\n",
    "yesterday = now - datetime.timedelta(days=1)\n",
    "\n",
    "def get_default_channels():\n",
    "    return ['873950891663839245']\n",
    "    \n",
    "\n",
    "async def retrieve(messagable, after=None, **kwargs):\n",
    "    '''\n",
    "    messagable = thread or channel\n",
    "    See other kwargs\n",
    "    https://discordpy.readthedocs.io/en/stable/api.html#discord.TextChannel.history\n",
    "    '''\n",
    "    \n",
    "    after = after or yesterday\n",
    "    messages = await messagable.history(after=after, **kwargs).flatten()\n",
    "    return messages\n",
    "\n",
    "async def get_all_messages():\n",
    "    messages_by_thread = {}\n",
    "    for chan_id in get_default_channels():\n",
    "        chan = await bot.fetch_channel(chan_id)\n",
    "        print(chan.threads)\n",
    "        for thread in chan.threads:\n",
    "            messages = await retrieve(thread)\n",
    "            print('=========')\n",
    "            for msg in messages:\n",
    "                print(msg)\n",
    "            messages_by_thread[thread] = messages\n",
    "    return messages_by_thread\n",
    "    \n",
    "\n",
    "@bot.event\n",
    "async def on_ready():\n",
    "    print(f'Logged in as {bot.user} (ID: {bot.user.id})')\n",
    "    print('------')\n",
    "\n",
    "\n",
    "@bot.command()\n",
    "async def register(ctx, email: str):\n",
    "    \"\"\"Registers a user to receive email updates\"\"\"\n",
    "    print(ctx)\n",
    "    #import pdb; pdb.set_trace()\n",
    "    await ctx.send(\"You're signed up at {}.  If thats the wrong email just register again.\".format(email))\n",
    "\n",
    "@bot.command()\n",
    "async def roll(ctx, dice: str):\n",
    "    \"\"\"Rolls a dice in NdN format.\"\"\"\n",
    "    try:\n",
    "        rolls, limit = map(int, dice.split('d'))\n",
    "    except Exception:\n",
    "        await ctx.send('Format has to be in NdN!')\n",
    "        return\n",
    "\n",
    "    result = ', '.join(str(random.randint(1, limit)) for r in range(rolls))\n",
    "    await ctx.send(result)\n",
    "\n",
    "@bot.command(description='For when you wanna settle the score some other way')\n",
    "async def choose(ctx, *choices: str):\n",
    "    \"\"\"Chooses between multiple choices.\"\"\"\n",
    "    await ctx.send(random.choice(choices))\n",
    "\n",
    "@bot.command()\n",
    "async def repeat(ctx, times: int, content='repeating...'):\n",
    "    \"\"\"Repeats a message multiple times.\"\"\"\n",
    "    for i in range(times):\n",
    "        await ctx.send(content)\n",
    "\n",
    "\n",
    "@bot.group()\n",
    "async def cool(ctx):\n",
    "    \"\"\"Says if a user is cool.\n",
    "    In reality this just checks if a subcommand is being invoked.\n",
    "    \"\"\"\n",
    "    if ctx.invoked_subcommand is None:\n",
    "        await ctx.send(f'No, {ctx.subcommand_passed} is not cool')\n",
    "\n",
    "@cool.command(name='bot')\n",
    "async def _bot(ctx):\n",
    "    \"\"\"Is the bot cool?\"\"\"\n",
    "    await ctx.send('Yes, the bot is cool.')"
   ]
  },
  {
   "cell_type": "code",
   "execution_count": null,
   "id": "c4376161-b160-42d4-ac76-774a36f08491",
   "metadata": {},
   "outputs": [],
   "source": [
    "\n",
    "\n",
    "        \n",
    "class MyClient(discord.Client):\n",
    "    async def on_ready(self):\n",
    "        print('Logged on as', self.user)\n",
    "        for chan_id in get_default_channels():\n",
    "            chan = await self.fetch_channel(chan_id)\n",
    "            \n",
    "            messages = await retrieve(chan)\n",
    "            for msg in messages:\n",
    "                print(msg)\n",
    "                print('----------')\n",
    "\n",
    "    async def on_message(self, message):\n",
    "        # don't respond to ourselves\n",
    "        if message.author == self.user:\n",
    "            return\n",
    "\n",
    "        if message.content == 'ping':\n",
    "            await message.channel.send('pong')\n",
    "            \n",
    "        if message.content == '%%summary':\n",
    "            pass\n",
    "            \n",
    "\n",
    "            \n",
    "\n",
    "client = MyClient()"
   ]
  },
  {
   "cell_type": "code",
   "execution_count": null,
   "id": "7a2bd0e4-1300-4bbe-9fd7-af217477e8fb",
   "metadata": {},
   "outputs": [
    {
     "data": {
      "text/plain": [
       "datetime.datetime(2021, 8, 8, 19, 53, 30, 125782)"
      ]
     },
     "execution_count": null,
     "metadata": {},
     "output_type": "execute_result"
    }
   ],
   "source": []
  },
  {
   "cell_type": "code",
   "execution_count": null,
   "id": "53fc8bb7-4744-45d8-91b1-dad822da85f5",
   "metadata": {},
   "outputs": [],
   "source": []
  },
  {
   "cell_type": "code",
   "execution_count": null,
   "id": "cc9982ad-2241-479f-bc1a-bd6ec3c3e268",
   "metadata": {},
   "outputs": [],
   "source": []
  },
  {
   "cell_type": "code",
   "execution_count": null,
   "id": "9855dd6f-bcea-4a9d-bf56-79ef1e605047",
   "metadata": {},
   "outputs": [],
   "source": [
    "#export\n",
    "if sewing.is_main(globals()):\n",
    "    sewing.start_log()\n",
    "    #client_secret = 'HN3In0Y-zWsb3arHkEnayIILiqAE5iyc'\n",
    "    #client_id = '873958608956710912'\n",
    "\n",
    "    token = 'ODczOTU4NjA4OTU2NzEwOTEy.YQ__YQ.8xrXGfsY3nN-lwiNT_gqEDrXedw'    \n",
    "    #client.run(token)\n",
    "    bot.run(token)"
   ]
  },
  {
   "cell_type": "code",
   "execution_count": null,
   "id": "7573bfe3-3eea-4170-8bee-db54dae5a0ef",
   "metadata": {},
   "outputs": [
    {
     "name": "stdout",
     "output_type": "stream",
     "text": [
      "Converted trybot.ipynb.\n"
     ]
    }
   ],
   "source": [
    "notebook2script(_nbpath)"
   ]
  }
 ],
 "metadata": {
  "kernelspec": {
   "display_name": "Python 3 (ipykernel)",
   "language": "python",
   "name": "python3"
  }
 },
 "nbformat": 4,
 "nbformat_minor": 5
}
