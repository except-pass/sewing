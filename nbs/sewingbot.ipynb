{
 "cells": [
  {
   "cell_type": "code",
   "execution_count": 4,
   "id": "2542368a-98ed-4003-a091-7629a81c7698",
   "metadata": {},
   "outputs": [],
   "source": [
    "# default_exp sewingbot\n",
    "# hide\n",
    "_FNAME='sewingbot'\n",
    "\n",
    "import unittest\n",
    "from unittest import mock\n",
    "from nbdev.export import notebook2script\n",
    "import os\n",
    "TESTCASE = unittest.TestCase()\n",
    "_nbpath = os.path.join(_dh[0], _FNAME+'.ipynb')"
   ]
  },
  {
   "cell_type": "code",
   "execution_count": 2,
   "id": "b6d4f499-2101-4e98-8139-ecc975a82259",
   "metadata": {},
   "outputs": [],
   "source": [
    "#export\n",
    "from pprint import pprint\n",
    "import json\n",
    "import logging\n",
    "import datetime\n",
    "\n",
    "import discord\n",
    "from discord.ext import tasks, commands\n",
    "\n",
    "import sewing\n",
    "import sewing.db as db\n",
    "from sewing.notify import Retriever, send_content"
   ]
  },
  {
   "cell_type": "code",
   "execution_count": 4,
   "id": "76c03940-b575-441b-aa8f-c441f72ef83c",
   "metadata": {},
   "outputs": [],
   "source": [
    "#export \n",
    "\n",
    "description = '''Summarize threads and send as an email'''\n",
    "bot = commands.Bot(command_prefix='!', description=description)"
   ]
  },
  {
   "cell_type": "code",
   "execution_count": 4,
   "id": "94b23fe0-8d1b-4dba-8278-a15ed546e535",
   "metadata": {},
   "outputs": [],
   "source": [
    "#export\n",
    "async def guilds():\n",
    "    guilds = db.guilds()\n",
    "    guild_objects = []\n",
    "    for guild_d in guilds:\n",
    "        guild_id = guild_d['guild']['id']\n",
    "        guild = await bot.fetch_guild(guild_id)\n",
    "        guild_objects.append(guild)\n",
    "    return guild_objects\n",
    "\n",
    "async def get_all_channel_content(channels):\n",
    "    retriever = Retriever()    \n",
    "    channels_content = {}\n",
    "    for channel_d in channels:\n",
    "        channel_id = channel_d['channel']['id']\n",
    "        channel_obj = await bot.fetch_channel(int(channel_id))\n",
    "        #{thread: [messages]}\n",
    "        messages = await retriever.get_all_messages_in_channel(channel_obj)\n",
    "        #print(json.dumps(messages))\n",
    "        channels_content[channel_obj] = messages\n",
    "    return channels_content \n",
    "    \n",
    "async def get_all_guild_content(all_guilds):    \n",
    "    guild_content = {}\n",
    "    for guild in all_guilds:\n",
    "        channels = db.summarized_channels(guild, names_only=False)\n",
    "        channels_content = await get_all_channel_content(channels)\n",
    "        guild_content[guild] = channels_content\n",
    "    return guild_content\n",
    "\n",
    "@tasks.loop(hours=1)\n",
    "async def sew_threads():\n",
    "    print(sew_threads.current_loop)\n",
    "    all_guilds = await guilds()\n",
    "    guild_content = await get_all_guild_content(all_guilds)\n",
    "    resps = send_content(guild_content)\n",
    "    print([resp.status_code for resp in resps])\n",
    "\n",
    "@bot.event\n",
    "async def on_ready():\n",
    "    print(f'Logged in as {bot.user} (ID: {bot.user.id})')\n",
    "    print('------')\n",
    "    db.ensure_unique_nodes()\n",
    "    for guild in bot.guilds:\n",
    "        db.ensure_guild(guild)\n",
    "    await sew_threads()\n",
    "    #sew_threads.start()"
   ]
  },
  {
   "cell_type": "markdown",
   "id": "d8f93b3c-3cb1-454a-a0bc-d1dcb691ff37",
   "metadata": {},
   "source": [
    "## Register Users"
   ]
  },
  {
   "cell_type": "code",
   "execution_count": 4,
   "id": "00d1d739-e597-4df5-a803-12acb27d71bf",
   "metadata": {},
   "outputs": [],
   "source": [
    "#export\n",
    "\n",
    "@bot.command(description=\"Registers you to receive email updates\")\n",
    "async def register(ctx):\n",
    "    guild = ctx.guild\n",
    "    author = ctx.author\n",
    "    \n",
    "    if guild is None:\n",
    "        await author.send(\"I can't tell which guild you're registering for.  `!register` from a guild channel\")\n",
    "        return None\n",
    "    print(guild, ctx.author.mutual_guilds)\n",
    "    resp = db.register_user(author, guild)\n",
    "    record = db.get_email(author)['email']\n",
    "    email_text = 'We have no email address for you'\n",
    "    \n",
    "    if record:\n",
    "        email_text = 'Your email is {}'.format(record)\n",
    "    await author.send(\"You're signed up. {email_text}.  `!email me@email.com` to change your email address\".format(\n",
    "            email_text=email_text))\n",
    "\n",
    "@bot.command(description=\"You stop getting email updates\")\n",
    "async def unregister(ctx):\n",
    "    guild = ctx.guild\n",
    "    author = ctx.author\n",
    "    \n",
    "    if guild is None:\n",
    "        await author.send(\"I can't tell which guild you're unregistering for.  `!unregister` from a guild channel\")\n",
    "        return None    \n",
    "    resp = db.unregister_user(author, guild)\n",
    "    await ctx.send(\"Was it something I said?  (You'll stop getting summary emails from me).\")\n",
    "    \n",
    "@bot.command(description=\"Add your email address\")\n",
    "async def email(ctx, address:str):\n",
    "    author = ctx.author\n",
    "    resp = db.set_email(author, address)\n",
    "    await author.send(\"Email address recorded\")\n",
    "                      "
   ]
  },
  {
   "cell_type": "markdown",
   "id": "0daa30c9-2ef8-4cc9-b150-4f5d12b892db",
   "metadata": {},
   "source": [
    "## Add channels to be summarized"
   ]
  },
  {
   "cell_type": "code",
   "execution_count": 5,
   "id": "0b597b81-cc1d-4767-8921-2be59970b6af",
   "metadata": {},
   "outputs": [],
   "source": [
    "#export\n",
    "\n",
    "@bot.command(description=\"START or STOP threads on this channel from being summarized\")\n",
    "async def summarize(ctx, cmd:str=''):\n",
    "    guild = ctx.guild\n",
    "    channel = ctx.channel\n",
    "    \n",
    "    cmd = cmd.upper()\n",
    "    \n",
    "    if cmd not in ('START', 'STOP'):\n",
    "        await ctx.send(\"Usage: `!summarize start` or `!summarize stop`\")        \n",
    "    \n",
    "    if cmd=='START':\n",
    "        resp = db.add_channel(channel, guild)\n",
    "        \n",
    "    elif cmd=='STOP':\n",
    "        resp = db.remove_channel(channel, guild)\n",
    "\n",
    "    all_channels = db.summarized_channels(guild, names_only=True)\n",
    "    if all_channels:\n",
    "        msg = \"Channels being summarized are: {}\".format(','.join(all_channels))\n",
    "    else:\n",
    "        msg = \"No channels are being summarized\"\n",
    "    await ctx.send(msg)"
   ]
  },
  {
   "cell_type": "markdown",
   "id": "d52b9171-4f5f-40a1-b730-79d971e15e8b",
   "metadata": {},
   "source": [
    "## Let the users suggest features"
   ]
  },
  {
   "cell_type": "code",
   "execution_count": 6,
   "id": "e6a3e5d7-3a1c-4dbf-a6c4-0e7cac1f28da",
   "metadata": {},
   "outputs": [],
   "source": [
    "#export\n",
    "\n",
    "@bot.command()\n",
    "async def suggest(ctx, *args):\n",
    "    user = ctx.author\n",
    "    db.add_suggestion(user, *args)\n",
    "    await ctx.send(\"Thanks for the suggestion.  Its been passed along to the bot's developer\")"
   ]
  },
  {
   "cell_type": "markdown",
   "id": "3a204730-3662-43e3-9047-f31e9c5cc189",
   "metadata": {},
   "source": [
    "## Help message"
   ]
  },
  {
   "cell_type": "code",
   "execution_count": 7,
   "id": "e2492504-ccc0-4be0-afe9-7d50b2a96e4c",
   "metadata": {},
   "outputs": [],
   "source": [
    "#export\n",
    "\n",
    "@bot.command(\"how\")\n",
    "async def helpme(ctx):\n",
    "    help_text='''\n",
    "You can `!register` for email updates of important threads.  \n",
    "When you do, I'll DM you so you can set your email address `!email my@address.com`.\n",
    "`!unregister` to stop getting email updates.\n",
    "You can also `!suggest your good ideas` to the devs of this bot\n",
    "    '''\n",
    "    await ctx.send(help_text)"
   ]
  },
  {
   "cell_type": "code",
   "execution_count": 8,
   "id": "9855dd6f-bcea-4a9d-bf56-79ef1e605047",
   "metadata": {},
   "outputs": [],
   "source": [
    "#export\n",
    "import os\n",
    "if sewing.is_main(globals()):\n",
    "    logger = sewing.start_log()\n",
    "    logger.setLevel(logging.INFO)\n",
    "\n",
    "    token = os.environ['DISCORD_TOKEN']\n",
    "    #client.run(token)\n",
    "    bot.run(token)"
   ]
  },
  {
   "cell_type": "code",
   "execution_count": 9,
   "id": "7573bfe3-3eea-4170-8bee-db54dae5a0ef",
   "metadata": {},
   "outputs": [
    {
     "name": "stdout",
     "output_type": "stream",
     "text": [
      "Converted sewingbot.ipynb.\n"
     ]
    }
   ],
   "source": [
    "notebook2script(_nbpath)"
   ]
  }
 ],
 "metadata": {
  "kernelspec": {
   "display_name": "Python 3 (ipykernel)",
   "language": "python",
   "name": "python3"
  },
  "language_info": {
   "codemirror_mode": {
    "name": "ipython",
    "version": 3
   },
   "file_extension": ".py",
   "mimetype": "text/x-python",
   "name": "python",
   "nbconvert_exporter": "python",
   "pygments_lexer": "ipython3",
   "version": "3.8.0"
  }
 },
 "nbformat": 4,
 "nbformat_minor": 5
}
