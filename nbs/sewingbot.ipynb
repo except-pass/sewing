{
 "cells": [
  {
   "cell_type": "code",
   "execution_count": null,
   "id": "2542368a-98ed-4003-a091-7629a81c7698",
   "metadata": {},
   "outputs": [],
   "source": [
    "# default_exp sewingbot\n",
    "# hide\n",
    "_FNAME='sewingbot'\n",
    "\n",
    "import unittest\n",
    "from unittest import mock\n",
    "from nbdev.export import notebook2script\n",
    "import os\n",
    "TESTCASE = unittest.TestCase()\n",
    "_nbpath = os.path.join(_dh[0], _FNAME+'.ipynb')"
   ]
  },
  {
   "cell_type": "code",
   "execution_count": null,
   "id": "b6d4f499-2101-4e98-8139-ecc975a82259",
   "metadata": {},
   "outputs": [],
   "source": [
    "#export\n",
    "from pprint import pprint\n",
    "import json\n",
    "import logging\n",
    "import time\n",
    "import datetime\n",
    "\n",
    "import discord\n",
    "from discord.ext import tasks, commands\n",
    "\n",
    "import sewing\n",
    "logger = sewing.start_log()\n",
    "import sewing.db as db\n",
    "from sewing.notify import Retriever, send_content\n",
    "\n",
    "from sewing.config import configs"
   ]
  },
  {
   "cell_type": "code",
   "execution_count": null,
   "id": "76c03940-b575-441b-aa8f-c441f72ef83c",
   "metadata": {},
   "outputs": [],
   "source": [
    "#export \n",
    "\n",
    "description = '''Summarize threads and send as an email'''\n",
    "command_prefix='||'\n",
    "bot = commands.Bot(command_prefix=command_prefix, description=description)"
   ]
  },
  {
   "cell_type": "code",
   "execution_count": null,
   "id": "94b23fe0-8d1b-4dba-8278-a15ed546e535",
   "metadata": {},
   "outputs": [],
   "source": [
    "#export\n",
    "async def guilds():\n",
    "    guilds = db.guilds()\n",
    "    guild_objects = []\n",
    "    for guild_d in guilds:\n",
    "        guild_id = guild_d['guild']['id']\n",
    "        guild = await bot.fetch_guild(guild_id)\n",
    "        guild_objects.append(guild)\n",
    "    return guild_objects\n",
    "\n",
    "async def get_all_channel_content(channels):\n",
    "    retriever = Retriever()    \n",
    "    channels_content = {}\n",
    "    for channel_d in channels:\n",
    "        channel_id = channel_d['channel']['id']\n",
    "        channel_obj = await bot.fetch_channel(int(channel_id))\n",
    "        #{thread: [messages]}\n",
    "        messages = await retriever.get_all_messages_in_channel(channel_obj)\n",
    "        #print(json.dumps(messages))\n",
    "        channels_content[channel_obj] = messages\n",
    "    return channels_content \n",
    "    \n",
    "async def get_guild_content(guild):\n",
    "    guild_content = {}\n",
    "    channels = db.summarized_channels(guild, names_only=False)\n",
    "    channels_content = await get_all_channel_content(channels)\n",
    "    guild_content[guild] = channels_content\n",
    "    return guild_content\n",
    "\n",
    "async def sew_threads(guild):\n",
    "    logger.info(\"sewing threads\")\n",
    "    guild_content = await get_guild_content(guild)\n",
    "    logger.info(\"{}\".format(guild_content)\n",
    "    resps = send_content(guild_content)\n",
    "    logger.info('{}'.format([resp.status_code for resp in resps]))\n",
    "    \n",
    "@tasks.loop(minutes=1)\n",
    "async def check_if_time_to_send():\n",
    "    now = time.time()\n",
    "    all_guilds = await guilds()\n",
    "\n",
    "    for guild in all_guilds:\n",
    "        last_report = db.last_report(guild)\n",
    "        logger.info(\"The last report for {guild} was {lr}\".format(guild=guild.name, lr=last_report))\n",
    "        send = False\n",
    "        if last_report is None:\n",
    "            send = True\n",
    "        else:\n",
    "            seconds_since_report = now-last_report\n",
    "            seconds_per_report = datetime.timedelta(**configs['frequency']).total_seconds()\n",
    "            logger.info(\"{ssr} and the report needs me to wait {spr}\".format(ssr=seconds_since_report, spr=seconds_per_report))\n",
    "            if seconds_since_report > seconds_per_report:\n",
    "                send = True\n",
    "                \n",
    "        logger.info(\"sending report for {guild}: {send}\".format(guild=guild.name, send=send))\n",
    "        if send:\n",
    "            await sew_threads(guild)\n",
    "            db.add_report(guild, ts=now)                \n",
    "\n",
    "@bot.event\n",
    "async def on_ready():\n",
    "    print(f'Logged in as {bot.user} (ID: {bot.user.id})')\n",
    "    print('------')\n",
    "    db.ensure_unique_nodes()\n",
    "    for guild in bot.guilds:\n",
    "        db.ensure_guild(guild)\n",
    "    check_if_time_to_send.start()"
   ]
  },
  {
   "cell_type": "markdown",
   "id": "d8f93b3c-3cb1-454a-a0bc-d1dcb691ff37",
   "metadata": {},
   "source": [
    "## Register Users"
   ]
  },
  {
   "cell_type": "code",
   "execution_count": null,
   "id": "00d1d739-e597-4df5-a803-12acb27d71bf",
   "metadata": {},
   "outputs": [],
   "source": [
    "#export\n",
    "\n",
    "@bot.command(description=\"Registers you to receive email updates\")\n",
    "async def register(ctx):\n",
    "    guild = ctx.guild\n",
    "    author = ctx.author\n",
    "    \n",
    "    if guild is None:\n",
    "        await author.send(\"I can't tell which guild you're registering for.  `{}register` from a guild channel\".format(command_prefix))\n",
    "        return None\n",
    "    print(guild, ctx.author.mutual_guilds)\n",
    "    resp = db.register_user(author, guild)\n",
    "    record = db.get_email(author)['email']\n",
    "    email_text = 'We have no email address for you'\n",
    "    \n",
    "    if record:\n",
    "        email_text = 'Your email is {}'.format(record)\n",
    "    await author.send(\"You're signed up. {email_text}.  `{cp}email me@email.com` to change your email address\".format(\n",
    "            email_text=email_text, cp=command_prefix))\n",
    "\n",
    "@bot.command(description=\"You stop getting email updates\")\n",
    "async def unregister(ctx):\n",
    "    guild = ctx.guild\n",
    "    author = ctx.author\n",
    "    \n",
    "    if guild is None:\n",
    "        await author.send(\"I can't tell which guild you're unregistering for.  `{cp}unregister` from a guild channel\".format(cp=command_prefix))\n",
    "        return None    \n",
    "    resp = db.unregister_user(author, guild)\n",
    "    await ctx.send(\"Was it something I said?  (You'll stop getting summary emails from me).\")\n",
    "    \n",
    "@bot.command(description=\"Add your email address\")\n",
    "async def email(ctx, address:str):\n",
    "    author = ctx.author\n",
    "    resp = db.set_email(author, address)\n",
    "    await author.send(\"Email address recorded\")\n",
    "                      "
   ]
  },
  {
   "cell_type": "markdown",
   "id": "0daa30c9-2ef8-4cc9-b150-4f5d12b892db",
   "metadata": {},
   "source": [
    "## Add channels to be summarized"
   ]
  },
  {
   "cell_type": "code",
   "execution_count": null,
   "id": "0b597b81-cc1d-4767-8921-2be59970b6af",
   "metadata": {},
   "outputs": [],
   "source": [
    "#export\n",
    "\n",
    "@bot.command(description=\"START or STOP threads on this channel from being summarized\")\n",
    "async def summarize(ctx, cmd:str=''):\n",
    "    guild = ctx.guild\n",
    "    channel = ctx.channel\n",
    "    \n",
    "    cmd = cmd.upper()\n",
    "    \n",
    "    if cmd not in ('START', 'STOP'):\n",
    "        await ctx.send(\"Usage: `{cp}summarize start` or `{cp}summarize stop`\".format(cp=command_prefix))\n",
    "    \n",
    "    if cmd=='START':\n",
    "        resp = db.add_channel(channel, guild)\n",
    "        \n",
    "    elif cmd=='STOP':\n",
    "        resp = db.remove_channel(channel, guild)\n",
    "\n",
    "    all_channels = db.summarized_channels(guild, names_only=True)\n",
    "    if all_channels:\n",
    "        msg = \"Channels being summarized are: {}\".format(','.join(all_channels))\n",
    "    else:\n",
    "        msg = \"No channels are being summarized\"\n",
    "    await ctx.send(msg)"
   ]
  },
  {
   "cell_type": "markdown",
   "id": "d52b9171-4f5f-40a1-b730-79d971e15e8b",
   "metadata": {},
   "source": [
    "## Let the users suggest features"
   ]
  },
  {
   "cell_type": "code",
   "execution_count": null,
   "id": "e6a3e5d7-3a1c-4dbf-a6c4-0e7cac1f28da",
   "metadata": {},
   "outputs": [],
   "source": [
    "#export\n",
    "\n",
    "@bot.command()\n",
    "async def suggest(ctx, *args):\n",
    "    user = ctx.author\n",
    "    db.add_suggestion(user, *args)\n",
    "    await ctx.send(\"Thanks for the suggestion.  Its been passed along to the bot's developer\")"
   ]
  },
  {
   "cell_type": "markdown",
   "id": "3a204730-3662-43e3-9047-f31e9c5cc189",
   "metadata": {},
   "source": [
    "## Help message"
   ]
  },
  {
   "cell_type": "code",
   "execution_count": null,
   "id": "ad8a3a0e-5b10-4ad6-a053-8a771f14a9a5",
   "metadata": {},
   "outputs": [
    {
     "data": {
      "text/plain": [
       "\"\\nYou can `||register` for email updates of important threads.  \\nWhen you do, I'll DM you so you can set your email address `||email my@address.com`.\\n`||unregister` to stop getting email updates.\\nYou can also `||suggest your good ideas` to the devs of this bot.\\nFinally you can `||summarize start` or `||summarize stop` to add/remove channels from the summary.  \\nBe careful though, this is not done user-by-user yet so you'll include that channel for everyone.\\n    \""
      ]
     },
     "execution_count": null,
     "metadata": {},
     "output_type": "execute_result"
    }
   ],
   "source": [
    "#export\n",
    "\n",
    "help_text='''\n",
    "You can `{cp}register` for email updates of important threads.  \n",
    "When you do, I'll DM you so you can set your email address `{cp}email my@address.com`.\n",
    "`{cp}unregister` to stop getting email updates.\n",
    "You can also `{cp}suggest your good ideas` to the devs of this bot.\n",
    "Finally you can `{cp}summarize start` or `{cp}summarize stop` to add/remove channels from the summary.  \n",
    "Be careful though, this is not done user-by-user yet so you'll include that channel for everyone.\n",
    "    '''.format(cp=command_prefix)\n",
    "help_text"
   ]
  },
  {
   "cell_type": "code",
   "execution_count": null,
   "id": "9614f967-b711-47ff-9097-6f5211cf55a1",
   "metadata": {},
   "outputs": [
    {
     "ename": "CommandRegistrationError",
     "evalue": "The command how is already an existing command or alias.",
     "output_type": "error",
     "traceback": [
      "\u001b[0;31m---------------------------------------------------------------------------\u001b[0m",
      "\u001b[0;31mCommandRegistrationError\u001b[0m                  Traceback (most recent call last)",
      "\u001b[0;32m/tmp/ipykernel_20044/3945966771.py\u001b[0m in \u001b[0;36m<module>\u001b[0;34m\u001b[0m\n\u001b[1;32m      1\u001b[0m \u001b[0;31m#export\u001b[0m\u001b[0;34m\u001b[0m\u001b[0;34m\u001b[0m\u001b[0;34m\u001b[0m\u001b[0m\n\u001b[1;32m      2\u001b[0m \u001b[0;34m@\u001b[0m\u001b[0mbot\u001b[0m\u001b[0;34m.\u001b[0m\u001b[0mcommand\u001b[0m\u001b[0;34m(\u001b[0m\u001b[0;34m\"how\"\u001b[0m\u001b[0;34m)\u001b[0m\u001b[0;34m\u001b[0m\u001b[0;34m\u001b[0m\u001b[0m\n\u001b[0;32m----> 3\u001b[0;31m \u001b[0;32masync\u001b[0m \u001b[0;32mdef\u001b[0m \u001b[0mhelpme\u001b[0m\u001b[0;34m(\u001b[0m\u001b[0mctx\u001b[0m\u001b[0;34m)\u001b[0m\u001b[0;34m:\u001b[0m\u001b[0;34m\u001b[0m\u001b[0;34m\u001b[0m\u001b[0m\n\u001b[0m\u001b[1;32m      4\u001b[0m \u001b[0;34m\u001b[0m\u001b[0m\n\u001b[1;32m      5\u001b[0m     \u001b[0;32mawait\u001b[0m \u001b[0mctx\u001b[0m\u001b[0;34m.\u001b[0m\u001b[0msend\u001b[0m\u001b[0;34m(\u001b[0m\u001b[0mhelp_text\u001b[0m\u001b[0;34m)\u001b[0m\u001b[0;34m\u001b[0m\u001b[0;34m\u001b[0m\u001b[0m\n",
      "\u001b[0;32m~/repos/discord.py/discord/ext/commands/core.py\u001b[0m in \u001b[0;36mdecorator\u001b[0;34m(func)\u001b[0m\n\u001b[1;32m   1229\u001b[0m             \u001b[0mkwargs\u001b[0m\u001b[0;34m.\u001b[0m\u001b[0msetdefault\u001b[0m\u001b[0;34m(\u001b[0m\u001b[0;34m'parent'\u001b[0m\u001b[0;34m,\u001b[0m \u001b[0mself\u001b[0m\u001b[0;34m)\u001b[0m\u001b[0;34m\u001b[0m\u001b[0;34m\u001b[0m\u001b[0m\n\u001b[1;32m   1230\u001b[0m             \u001b[0mresult\u001b[0m \u001b[0;34m=\u001b[0m \u001b[0mcommand\u001b[0m\u001b[0;34m(\u001b[0m\u001b[0;34m*\u001b[0m\u001b[0margs\u001b[0m\u001b[0;34m,\u001b[0m \u001b[0;34m**\u001b[0m\u001b[0mkwargs\u001b[0m\u001b[0;34m)\u001b[0m\u001b[0;34m(\u001b[0m\u001b[0mfunc\u001b[0m\u001b[0;34m)\u001b[0m\u001b[0;34m\u001b[0m\u001b[0;34m\u001b[0m\u001b[0m\n\u001b[0;32m-> 1231\u001b[0;31m             \u001b[0mself\u001b[0m\u001b[0;34m.\u001b[0m\u001b[0madd_command\u001b[0m\u001b[0;34m(\u001b[0m\u001b[0mresult\u001b[0m\u001b[0;34m)\u001b[0m\u001b[0;34m\u001b[0m\u001b[0;34m\u001b[0m\u001b[0m\n\u001b[0m\u001b[1;32m   1232\u001b[0m             \u001b[0;32mreturn\u001b[0m \u001b[0mresult\u001b[0m\u001b[0;34m\u001b[0m\u001b[0;34m\u001b[0m\u001b[0m\n\u001b[1;32m   1233\u001b[0m \u001b[0;34m\u001b[0m\u001b[0m\n",
      "\u001b[0;32m~/repos/discord.py/discord/ext/commands/core.py\u001b[0m in \u001b[0;36madd_command\u001b[0;34m(self, command)\u001b[0m\n\u001b[1;32m   1115\u001b[0m \u001b[0;34m\u001b[0m\u001b[0m\n\u001b[1;32m   1116\u001b[0m         \u001b[0;32mif\u001b[0m \u001b[0mcommand\u001b[0m\u001b[0;34m.\u001b[0m\u001b[0mname\u001b[0m \u001b[0;32min\u001b[0m \u001b[0mself\u001b[0m\u001b[0;34m.\u001b[0m\u001b[0mall_commands\u001b[0m\u001b[0;34m:\u001b[0m\u001b[0;34m\u001b[0m\u001b[0;34m\u001b[0m\u001b[0m\n\u001b[0;32m-> 1117\u001b[0;31m             \u001b[0;32mraise\u001b[0m \u001b[0mCommandRegistrationError\u001b[0m\u001b[0;34m(\u001b[0m\u001b[0mcommand\u001b[0m\u001b[0;34m.\u001b[0m\u001b[0mname\u001b[0m\u001b[0;34m)\u001b[0m\u001b[0;34m\u001b[0m\u001b[0;34m\u001b[0m\u001b[0m\n\u001b[0m\u001b[1;32m   1118\u001b[0m \u001b[0;34m\u001b[0m\u001b[0m\n\u001b[1;32m   1119\u001b[0m         \u001b[0mself\u001b[0m\u001b[0;34m.\u001b[0m\u001b[0mall_commands\u001b[0m\u001b[0;34m[\u001b[0m\u001b[0mcommand\u001b[0m\u001b[0;34m.\u001b[0m\u001b[0mname\u001b[0m\u001b[0;34m]\u001b[0m \u001b[0;34m=\u001b[0m \u001b[0mcommand\u001b[0m\u001b[0;34m\u001b[0m\u001b[0;34m\u001b[0m\u001b[0m\n",
      "\u001b[0;31mCommandRegistrationError\u001b[0m: The command how is already an existing command or alias."
     ]
    }
   ],
   "source": [
    "#export\n",
    "@bot.command(\"how\")\n",
    "async def helpme(ctx):\n",
    "\n",
    "    await ctx.send(help_text)\n",
    "    "
   ]
  },
  {
   "cell_type": "code",
   "execution_count": null,
   "id": "9855dd6f-bcea-4a9d-bf56-79ef1e605047",
   "metadata": {},
   "outputs": [],
   "source": [
    "#export\n",
    "import os\n",
    "if sewing.is_main(globals()):\n",
    "    logger.setLevel(logging.INFO)\n",
    "\n",
    "    token = os.environ['DISCORD_TOKEN']\n",
    "    #client.run(token)\n",
    "    bot.run(token)"
   ]
  },
  {
   "cell_type": "code",
   "execution_count": null,
   "id": "7573bfe3-3eea-4170-8bee-db54dae5a0ef",
   "metadata": {},
   "outputs": [
    {
     "name": "stdout",
     "output_type": "stream",
     "text": [
      "Converted sewingbot.ipynb.\n"
     ]
    }
   ],
   "source": [
    "notebook2script(_nbpath)"
   ]
  }
 ],
 "metadata": {
  "kernelspec": {
   "display_name": "Python 3 (ipykernel)",
   "language": "python",
   "name": "python3"
  }
 },
 "nbformat": 4,
 "nbformat_minor": 5
}
