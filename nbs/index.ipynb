{
 "cells": [
  {
   "cell_type": "code",
   "execution_count": null,
   "metadata": {},
   "outputs": [],
   "source": [
    "#hide\n"
   ]
  },
  {
   "cell_type": "markdown",
   "metadata": {},
   "source": [
    "# Sewing Discord\n",
    "\n",
    "> Gathers discord threads and makes them available as a digest\n",
    "\n"
   ]
  },
  {
   "cell_type": "markdown",
   "metadata": {},
   "source": [
    "## Quick Start\n",
    "\n",
    "Go to a discord channel that is running this bot and type `!how` for instructions\n"
   ]
  },
  {
   "cell_type": "markdown",
   "metadata": {},
   "source": [
    "## Add this bot to your server\n",
    "\n",
    "Use this link:\n",
    "https://discord.com/api/oauth2/authorize?client_id=873958608956710912&permissions=67584&scope=bot\n",
    "\n",
    "The bot needs `Send Messages` and `Read Message History` permissions.  "
   ]
  },
  {
   "cell_type": "markdown",
   "metadata": {},
   "source": [
    "## Still to do\n",
    "\n",
    "A ton of stuff!  \n",
    "\n",
    "- First, we probably want nicer design than just plaintext.  Also there is no indication of messages that are replying to other messages.  If I could just lift the default discord design wholesale I would.\n",
    "\n",
    "- Cosmetic stuff like an image for the bot.\n",
    "\n",
    "- Next I will look for hosting and a domain for the emails to come from.  \n",
    "\n",
    "- After that, some backend improvements.  I hacked together the data model before I really understood what I wanted so I'd like to revisit that.\n"
   ]
  }
 ],
 "metadata": {
  "kernelspec": {
   "display_name": "Python 3 (ipykernel)",
   "language": "python",
   "name": "python3"
  },
  "language_info": {
   "codemirror_mode": {
    "name": "ipython",
    "version": 3
   },
   "file_extension": ".py",
   "mimetype": "text/x-python",
   "name": "python",
   "nbconvert_exporter": "python",
   "pygments_lexer": "ipython3",
   "version": "3.8.0"
  }
 },
 "nbformat": 4,
 "nbformat_minor": 4
}
