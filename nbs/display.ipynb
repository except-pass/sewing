{
 "cells": [
  {
   "cell_type": "code",
   "execution_count": null,
   "id": "24239d28-31cd-4f73-9d34-1a78cfa9dc1e",
   "metadata": {},
   "outputs": [
    {
     "name": "stdout",
     "output_type": "stream",
     "text": [
      "Converted display.ipynb.\n"
     ]
    }
   ],
   "source": [
    "# default_exp display\n",
    "# hide\n",
    "_FNAME='display'\n",
    "\n",
    "import unittest\n",
    "from unittest import mock\n",
    "from nbdev.export import notebook2script\n",
    "import os\n",
    "TESTCASE = unittest.TestCase()\n",
    "_nbpath = os.path.join(_dh[0], _FNAME+'.ipynb')\n",
    "notebook2script(_nbpath)"
   ]
  },
  {
   "cell_type": "code",
   "execution_count": null,
   "id": "f89b27e0-36af-4f3e-8cac-ca0942c8b182",
   "metadata": {},
   "outputs": [],
   "source": [
    "#export\n",
    "import discord\n"
   ]
  },
  {
   "cell_type": "code",
   "execution_count": null,
   "id": "9f1aa926-105c-411a-a6be-f693da901994",
   "metadata": {},
   "outputs": [],
   "source": [
    "#export\n",
    "\n",
    "import json\n",
    "\n",
    "class DiscordEncoder(json.JSONEncoder):\n",
    "    def default(self, u):\n",
    "        if isinstance(u, discord.Message):\n",
    "            \"\"\"\n",
    "            serialized = {\n",
    "                \"id\": u.id,\n",
    "                \"content\": u.content,\n",
    "                \"author\": u.author.name,\n",
    "                \"created_at\": u.created_at.isoformat()\n",
    "            }\n",
    "            \"\"\"\n",
    "            serialized = \"({ts}){author}: {content}\".format(ts=u.created_at.isoformat(), \n",
    "                                                            author=u.author.name, \n",
    "                                                            content=u.content)\n",
    "            return serialized\n",
    "        elif isinstance(u, discord.Thread):\n",
    "            return 'Thread: {}'.format(u.name)\n",
    "        elif isinstance(u, discord.TextChannel):\n",
    "            return 'Channel: {}'.format(u.name)\n",
    "        elif isinstance(u, discord.Guild):\n",
    "            return 'Guild: {}'.format(u.name)\n",
    "        \n",
    "        else:\n",
    "            type_name = u.__class__.__name__\n",
    "            raise TypeError(\"Unexpected type {0}\".format(type_name))\n",
    "            \n",
    "            \n",
    "class Formatter:\n",
    "    def __init__(self):\n",
    "        self.lines = []\n",
    "        \n",
    "    def add(self, thing):\n",
    "        entry = json.dumps(thing, cls=DiscordEncoder)\n",
    "        self.lines.append(entry)\n"
   ]
  },
  {
   "cell_type": "code",
   "execution_count": null,
   "id": "c74462b5-7e2a-470d-99d5-a7bf738f08e7",
   "metadata": {},
   "outputs": [],
   "source": [
    "#export\n",
    "\n",
    "#TODO change the data model for this to something more standard.\n",
    "# use only strings for the keywords rather than discord objects\n",
    "def serialize_content(guild_content):\n",
    "    fmt = Formatter()\n",
    "    print('--------- content summary -------------')\n",
    "    for guild, channels_d in guild_content.items():\n",
    "        fmt.add(guild)\n",
    "        for channel_obj, thread_d in channels_d.items():\n",
    "            fmt.add(channel_obj)\n",
    "            for thread, msg_list in thread_d.items():\n",
    "                fmt.add(thread)\n",
    "                for msg in msg_list:\n",
    "                    fmt.add(msg)\n",
    "    return fmt.lines\n",
    "\n",
    "def html_content(guild_content):\n",
    "    lines = serialize_content(guild_content)\n",
    "    return '\\n'.join(lines)"
   ]
  }
 ],
 "metadata": {
  "kernelspec": {
   "display_name": "Python 3 (ipykernel)",
   "language": "python",
   "name": "python3"
  }
 },
 "nbformat": 4,
 "nbformat_minor": 5
}
