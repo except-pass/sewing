{
 "cells": [
  {
   "cell_type": "code",
   "execution_count": 9,
   "id": "24239d28-31cd-4f73-9d34-1a78cfa9dc1e",
   "metadata": {},
   "outputs": [
    {
     "name": "stdout",
     "output_type": "stream",
     "text": [
      "Converted display.ipynb.\n"
     ]
    }
   ],
   "source": [
    "# default_exp display\n",
    "# hide\n",
    "_FNAME='display'\n",
    "\n",
    "import unittest\n",
    "from unittest import mock\n",
    "from nbdev.export import notebook2script\n",
    "import os\n",
    "TESTCASE = unittest.TestCase()\n",
    "_nbpath = os.path.join(_dh[0], _FNAME+'.ipynb')\n",
    "notebook2script(_nbpath)"
   ]
  },
  {
   "cell_type": "code",
   "execution_count": 10,
   "id": "f89b27e0-36af-4f3e-8cac-ca0942c8b182",
   "metadata": {},
   "outputs": [],
   "source": [
    "#export\n",
    "import discord\n"
   ]
  },
  {
   "cell_type": "code",
   "execution_count": 11,
   "id": "9f1aa926-105c-411a-a6be-f693da901994",
   "metadata": {},
   "outputs": [],
   "source": [
    "#export\n",
    "\n",
    "import json\n",
    " \n",
    "class DiscordEncoder(json.JSONEncoder):\n",
    "    def default(self, u):\n",
    " \n",
    "        if isinstance(u, discord.Message):\n",
    "            serialized = {\n",
    "                \"id\": u.id,\n",
    "                \"content\": u.content,\n",
    "                \"author\": u.author.name,\n",
    "                \"created_at\": u.created_at.isoformat()\n",
    "            }\n",
    "            return serialized\n",
    "        elif isinstance(u, discord.Thread):\n",
    "            return 'Thread: {}'.format(u.name)\n",
    "        else:\n",
    "            type_name = u.__class__.__name__\n",
    "            raise TypeError(\"Unexpected type {0}\".format(type_name))\n",
    "            \n",
    "            \n",
    "class Formatter:\n",
    "    def __init__(self):\n",
    "        self.lines = []\n",
    "        \n",
    "    def add(self, thing):\n",
    "        if isinstance(thing, discord.Message):\n",
    "            serialized = {\n",
    "                \"id\": thing.id,\n",
    "                \"content\": thing.content,\n",
    "                \"author\": thing.author.name,\n",
    "                \"created_at\": thing.created_at.isoformat()\n",
    "            }\n",
    "            \n",
    "        elif isinstance(thing, discord.Thread):\n",
    "            serialized = 'Thread: {}'.format(thing.name)\n",
    "        \n",
    "        elif isinstance(thing, discord.Channel):\n",
    "            serialized = 'Channel: {}'.format(thing.name)\n",
    "\n",
    "        elif isinstance(thing, discord.Guild):\n",
    "            serialized = 'Channel: {}'.format(thing.name)\n",
    "            \n",
    "        entry = json.dumps(serialized)\n",
    "        self.lines.append(entry)\n",
    "        "
   ]
  }
 ],
 "metadata": {
  "kernelspec": {
   "display_name": "Python 3 (ipykernel)",
   "language": "python",
   "name": "python3"
  },
  "language_info": {
   "codemirror_mode": {
    "name": "ipython",
    "version": 3
   },
   "file_extension": ".py",
   "mimetype": "text/x-python",
   "name": "python",
   "nbconvert_exporter": "python",
   "pygments_lexer": "ipython3",
   "version": "3.8.0"
  }
 },
 "nbformat": 4,
 "nbformat_minor": 5
}
