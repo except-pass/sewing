{
 "cells": [
  {
   "cell_type": "code",
   "execution_count": null,
   "id": "5a7dbc18-53fc-41ac-b0e9-0fb90a24361a",
   "metadata": {},
   "outputs": [],
   "source": [
    "# default_exp __init__\n",
    "# hide\n",
    "_FNAME='init'\n",
    "\n",
    "import unittest\n",
    "from unittest import mock\n",
    "from nbdev.export import notebook2script\n",
    "import os\n",
    "TESTCASE = unittest.TestCase()\n",
    "_nbpath = os.path.join(_dh[0], _FNAME+'.ipynb')"
   ]
  },
  {
   "cell_type": "code",
   "execution_count": null,
   "id": "aeac3831-a384-4ccc-925e-bbd47211b1c6",
   "metadata": {},
   "outputs": [],
   "source": [
    "#export\n",
    "import logging\n",
    "\n",
    "def is_main(calling_globals):\n",
    "    #not running in jupyter notebook and is the main function\n",
    "    return not calling_globals.get('get_ipython', False) and calling_globals['__name__'] == '__main__'\n",
    "\n",
    "def start_log(logger_name=None):\n",
    "    '''\n",
    "    Start a log that displays on stdout\n",
    "    '''\n",
    "    logger = logging.getLogger(logger_name)\n",
    "    screen_handler = logging.StreamHandler()\n",
    "    formatter = logging.Formatter(\n",
    "            fmt='[%(levelname)s] %(module)s(%(funcName)s)%(asctime)s--> %(lineno)s.\\t %(message)s')\n",
    "    screen_handler.setFormatter(formatter)\n",
    "    if not logger.handlers:\n",
    "        logger.addHandler(screen_handler)\n",
    "    logger.setLevel(logging.DEBUG)\n",
    "    return logger"
   ]
  },
  {
   "cell_type": "code",
   "execution_count": null,
   "id": "9f99e775-6103-4ec1-8307-0a2a22367ec3",
   "metadata": {},
   "outputs": [
    {
     "name": "stdout",
     "output_type": "stream",
     "text": [
      "Converted init.ipynb.\n"
     ]
    }
   ],
   "source": [
    "notebook2script(_nbpath)"
   ]
  }
 ],
 "metadata": {
  "kernelspec": {
   "display_name": "Python 3 (ipykernel)",
   "language": "python",
   "name": "python3"
  }
 },
 "nbformat": 4,
 "nbformat_minor": 5
}
